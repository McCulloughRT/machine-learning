{
 "cells": [
  {
   "cell_type": "markdown",
   "metadata": {},
   "source": [
    "# Linear Regression in TensorFlow"
   ]
  },
  {
   "cell_type": "code",
   "execution_count": 136,
   "metadata": {
    "collapsed": false
   },
   "outputs": [],
   "source": [
    "%matplotlib inline\n",
    "import tensorflow as tf\n",
    "import numpy as np\n",
    "import matplotlib.pyplot as plt\n",
    "rng = np.random"
   ]
  },
  {
   "cell_type": "markdown",
   "metadata": {},
   "source": [
    "## Set up the data and regression arguments"
   ]
  },
  {
   "cell_type": "code",
   "execution_count": 137,
   "metadata": {
    "collapsed": false
   },
   "outputs": [],
   "source": [
    "train_X = np.linspace(-1, 1, 101) # Input data\n",
    "train_Y = 2 * trX + np.random.randn(*trX.shape) * 0.65 # Ground truth - linear y with some random noise added\n",
    "n_observations = train_X.shape[0] # number of observations\n",
    "learning_rate = 0.005 # step size for gradient descent\n",
    "epochs = 2000 # number of iterations to run"
   ]
  },
  {
   "cell_type": "markdown",
   "metadata": {},
   "source": [
    "### Use placeholder tensors for the X and Y variables on the graph"
   ]
  },
  {
   "cell_type": "code",
   "execution_count": 138,
   "metadata": {
    "collapsed": true
   },
   "outputs": [],
   "source": [
    "X = tf.placeholder(\"float\")\n",
    "Y = tf.placeholder(\"float\")"
   ]
  },
  {
   "cell_type": "markdown",
   "metadata": {},
   "source": [
    "### Using a very simple linear model defined by: $f(x_{i}) = w_{0} + w_{1}x_{i}$"
   ]
  },
  {
   "cell_type": "code",
   "execution_count": 139,
   "metadata": {
    "collapsed": true
   },
   "outputs": [],
   "source": [
    "def model(X, w):\n",
    "    return tf.add(tf.mul(X, w[1]), w[0])"
   ]
  },
  {
   "cell_type": "markdown",
   "metadata": {},
   "source": [
    "### We initialize the weights in a single vector, $w$, with random numbers\n",
    "### For the cost function we are using gradient descent to minimize over the L2-Norm: \n",
    "$cost = 1/n \\sum\\limits_{i=1}^n (Y - \\hat{y})^2 $\n",
    "#### Curiously, training error improves by taking the average of L2. Does this suggest tensorflow is using stochastic gradient descent?"
   ]
  },
  {
   "cell_type": "code",
   "execution_count": 140,
   "metadata": {
    "collapsed": false
   },
   "outputs": [],
   "source": [
    "# w vector will contain all weights for the model\n",
    "w = tf.Variable([rng.randn(),rng.randn()], name=\"weights\")\n",
    "\n",
    "# Load our linear model into a variable to be inserted to the graph\n",
    "y_predicted = model(X, w)\n",
    "\n",
    "# Cost function to minimize least squared error\n",
    "cost = tf.reduce_sum(tf.square(Y - y_predicted))/float(n_observations) # use square error for cost function\n",
    "\n",
    "# The optimizer is fed the cost function and the learning rate\n",
    "# note: experiment with the adam optimizer here, learning rate is dynamically calculated\n",
    "optimizer = tf.train.GradientDescentOptimizer(learning_rate).minimize(cost) # construct an optimizer to minimize cost"
   ]
  },
  {
   "cell_type": "markdown",
   "metadata": {},
   "source": [
    "### Start a tf.Session to run the graph\n",
    "#### First all the placeholder variables are initialized, then the optimizer is run in a loop for the specified number of epochs. The optimizer is fed paired (X, Y) data. After all epochs are run, the model parameters are printed and the trained line is plotted on the page"
   ]
  },
  {
   "cell_type": "code",
   "execution_count": 141,
   "metadata": {
    "collapsed": false
   },
   "outputs": [
    {
     "name": "stdout",
     "output_type": "stream",
     "text": [
      "W: 1.82416\n",
      "b: 0.0610449\n",
      "Error: 34.183562845\n"
     ]
    },
    {
     "data": {
      "image/png": "[encoded data removed]",
      "text/plain": [
       "<matplotlib.figure.Figure at 0x7fc897e98710>"
      ]
     },
     "metadata": {},
     "output_type": "display_data"
    }
   ],
   "source": [
    "with tf.Session() as sess:\n",
    "    # Init variables\n",
    "    tf.initialize_all_variables().run()\n",
    "    \n",
    "    # Loop through epochs and optimize\n",
    "    for i in range(epochs):\n",
    "        for (x, y) in zip(train_X, train_Y): # Pair up X and Y variables in a list of tuples\n",
    "            sess.run(optimizer, feed_dict={X: x, Y: y})\n",
    "    \n",
    "    # After approx convergence print model parameters\n",
    "    print(\"W: \" + str(sess.run(w[1])))\n",
    "    print(\"b: \" + str(sess.run(w[0])))\n",
    "    print(\"Error: \" + str(sess.run(cost, feed_dict={X: train_X, Y: train_Y}) * (n_observations)))\n",
    "    plt.plot(train_X, train_Y, 'ro', label='Original data')\n",
    "    plt.plot(train_X, (sess.run(w[1]) * train_X) + sess.run(w[0]), label='Fitted line')\n",
    "    plt.legend()\n",
    "    plt.show()"
   ]
  },
  {
   "cell_type": "code",
   "execution_count": null,
   "metadata": {
    "collapsed": true
   },
   "outputs": [],
   "source": []
  }
 ],
 "metadata": {
  "kernelspec": {
   "display_name": "Python 2",
   "language": "python",
   "name": "python2"
  },
  "language_info": {
   "codemirror_mode": {
    "name": "ipython",
    "version": 2
   },
   "file_extension": ".py",
   "mimetype": "text/x-python",
   "name": "python",
   "nbconvert_exporter": "python",
   "pygments_lexer": "ipython2",
   "version": "2.7.11"
  }
 },
 "nbformat": 4,
 "nbformat_minor": 0
}
